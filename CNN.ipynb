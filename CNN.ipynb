{
 "cells": [
  {
   "cell_type": "markdown",
   "id": "95cecd50",
   "metadata": {},
   "source": [
    "# CNN net"
   ]
  },
  {
   "cell_type": "markdown",
   "id": "c85de960",
   "metadata": {},
   "source": [
    "## 卷积定义"
   ]
  },
  {
   "cell_type": "markdown",
   "id": "3b335dee",
   "metadata": {},
   "source": [
    "卷积, 某一个输入在某一个时刻受到其他变量影响下的输出."
   ]
  },
  {
   "cell_type": "markdown",
   "id": "e2f8df31",
   "metadata": {},
   "source": [
    "某一时刻的输出, 取决于这一时刻之前所有输入和其他变量的作用之和 以及现在的输入$f(t)$和现在的影响系数$g(t)$\n",
    "\n",
    "对于某一时刻$t$, 其之前某一个时刻$\\tau$对现在的作用为该时刻的输入$f(\\tau)$和$\\tau$到$t$的系统影响系数$g(t-\\tau)$, 那么所有的之前时刻对现在$t$时刻的作用为\n",
    "$$ (f*g)(t) = \\int_{-\\infty}^t f(\\tau)g(t-\\tau) d\\tau\n",
    "$$"
   ]
  },
  {
   "cell_type": "markdown",
   "id": "94050aa4",
   "metadata": {},
   "source": [
    "此时$g$称作卷积核"
   ]
  },
  {
   "cell_type": "markdown",
   "id": "c2268148",
   "metadata": {},
   "source": [
    "## 在图像分析中卷积应用"
   ]
  },
  {
   "cell_type": "markdown",
   "id": "661c3d00",
   "metadata": {},
   "source": [
    "$f$就是需要处理的像素点. 而$g$就是$f$像素点周围的像素点以及$f$像素点自身对$f$的影响. 其周围的每一个像素点对其都有不完全相同的作用, **卷积核就是将这些作用定量化. 并且进行特征规划** 而后再将这些定量化系数与这些像素点对应相乘, 就得到$f$像素点在周围特征影响下的输出特征."
   ]
  },
  {
   "cell_type": "markdown",
   "id": "5d7f0f6c",
   "metadata": {},
   "source": [
    "不同作用卷积核(特征规划)下的图像"
   ]
  },
  {
   "cell_type": "markdown",
   "id": "7575c41e",
   "metadata": {},
   "source": [
    "![img](convolution_kernel.png)"
   ]
  },
  {
   "cell_type": "markdown",
   "id": "10b3903a",
   "metadata": {},
   "source": [
    "## 卷积神经网络结构"
   ]
  },
  {
   "cell_type": "markdown",
   "id": "f6ddb7dc",
   "metadata": {},
   "source": [
    "#### 卷积层(深度可变)"
   ]
  },
  {
   "cell_type": "markdown",
   "id": "b8e009c0",
   "metadata": {},
   "source": [
    "* 输入图像为(高$h$\\*宽$w$\\*深度$d$)的三维张量, 每一个深度$d$层经过一个卷积核的处理, 将他们映射为$d$层的二维张量"
   ]
  },
  {
   "cell_type": "markdown",
   "id": "3024d811",
   "metadata": {},
   "source": [
    "* 感受野(receptive field), 从输入张量的每一深度层映射到卷积输出层时, 卷积核的大小"
   ]
  },
  {
   "cell_type": "markdown",
   "id": "008dc659",
   "metadata": {},
   "source": [
    "* 每一深度层卷积核的参数量:\n",
    "\n",
    "对于一个[32,32,96]的输入三维张量, 卷积核的感受野为[11,11], 那么每一个$h*w(32,32)$维度上的卷积核是相同的, 而每一个深度$d(96)$上的卷积核是不同的. 那么这些卷积核总参数量为$96*11*11$, 如果每一个图像的通道分开处理, 那么需要$96*11*11*3$个参数. 考虑到bias, 仍然需要96个参数作为bias"
   ]
  },
  {
   "cell_type": "markdown",
   "id": "e2840785",
   "metadata": {},
   "source": [
    "* fiber, 将具有相同感受野的卷积输出, 按照每一深度层方向排列, 得到的深度方向上的一列卷积输出(神经元)"
   ]
  },
  {
   "cell_type": "markdown",
   "id": "7ccf8ee7",
   "metadata": {},
   "source": [
    "* 权重共享\n",
    "\n",
    "对于卷积处理以后的输出, 是一个具有深度$d$层数的二维张量, 这时, 如果要将其连接到其他神经网络层中, 需要采用权重共享策略, 具体使用如下:\n",
    "> 对于每一深度层下的卷积输出, 将他们排列成一列, 对于下一层的其中某一个神经元具有相同的权重, 对于另一个神经元具有其他权重. 也就是说, 上文中96深度的卷积层, 对于下一层(或者上一次)神经网络中的某一个神经元就有96个权重集. 每一个权重集都包含这一个深度层的卷积输出线性相加以后对下一个神经元的权重.(事实上每一个权重集只有一个权重)"
   ]
  },
  {
   "cell_type": "markdown",
   "id": "f65f6643",
   "metadata": {},
   "source": [
    "![img](conv1.jpg)"
   ]
  },
  {
   "cell_type": "markdown",
   "id": "4088c70c",
   "metadata": {},
   "source": [
    "* 超参数\n",
    " \n",
    "卷积核的大小, 卷积核滑动的步长(stride), padding, 扩张(dilation), 输入深度, 输出深度 "
   ]
  },
  {
   "cell_type": "markdown",
   "id": "64adb2db",
   "metadata": {},
   "source": [
    "#### 池化层(深度不可变)"
   ]
  },
  {
   "cell_type": "markdown",
   "id": "ca060863",
   "metadata": {},
   "source": [
    "一般在连续的卷积层之间使用池化层, 用于减少数据量, 减少参数, 减少过拟合."
   ]
  },
  {
   "cell_type": "markdown",
   "id": "6cfcc57d",
   "metadata": {},
   "source": [
    "* 最大池化\n",
    "\n",
    "在卷积出的每个深度层的二维张量中, 选取一定的核大小(二维张量尺寸), 一定的步长, 从头开始分别按步长匹配卷积层的输出, 选取这个kernel内最大的值作为这个单元格最大池化的结果, 依次进行直到结束. 将最后的每一个池化的结果按顺序排列为二维张量形式, 得到这个深度下的池化输出张量"
   ]
  },
  {
   "cell_type": "markdown",
   "id": "01dc2d48",
   "metadata": {},
   "source": [
    "* 其他池化\n",
    "\n",
    "除了最大池化, 仍具有其他形式的池化函数, 比如平均池化, 普通池化等形式."
   ]
  },
  {
   "cell_type": "markdown",
   "id": "5e3f8170",
   "metadata": {},
   "source": [
    "#### 全连接层"
   ]
  },
  {
   "cell_type": "markdown",
   "id": "95a5e613",
   "metadata": {},
   "source": [
    "将最后卷积输出展平. 变为普通的一层."
   ]
  }
 ],
 "metadata": {
  "kernelspec": {
   "display_name": "Python 3 (ipykernel)",
   "language": "python",
   "name": "python3"
  },
  "language_info": {
   "codemirror_mode": {
    "name": "ipython",
    "version": 3
   },
   "file_extension": ".py",
   "mimetype": "text/x-python",
   "name": "python",
   "nbconvert_exporter": "python",
   "pygments_lexer": "ipython3",
   "version": "3.9.2"
  }
 },
 "nbformat": 4,
 "nbformat_minor": 5
}
