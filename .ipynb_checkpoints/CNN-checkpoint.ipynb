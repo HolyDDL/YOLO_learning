{
 "cells": [
  {
   "cell_type": "markdown",
   "id": "95cecd50",
   "metadata": {},
   "source": [
    "# CNN net"
   ]
  },
  {
   "cell_type": "markdown",
   "id": "c85de960",
   "metadata": {},
   "source": [
    "## 卷积定义"
   ]
  },
  {
   "cell_type": "markdown",
   "id": "3b335dee",
   "metadata": {},
   "source": [
    "卷积, 某一个输入在某一个时刻受到其他变量影响下的输出."
   ]
  },
  {
   "cell_type": "markdown",
   "id": "e2f8df31",
   "metadata": {},
   "source": [
    "某一时刻的输出, 取决于这一时刻之前所有输入和其他变量的作用之和 以及现在的输入$f(t)$和现在的影响系数$g(t)$\n",
    "\n",
    "对于某一时刻$t$, 其之前某一个时刻$\\tau$对现在的作用为该时刻的输入$f(\\tau)$和$\\tau$到$t$的系统影响系数$g(t-\\tau)$, 那么所有的之前时刻对现在$t$时刻的作用为\n",
    "$$ (f*g)(t) = \\int_{-\\infty}^t f(\\tau)g(t-\\tau) d\\tau\n",
    "$$"
   ]
  },
  {
   "cell_type": "markdown",
   "id": "94050aa4",
   "metadata": {},
   "source": [
    "此时$g$称作卷积核"
   ]
  },
  {
   "cell_type": "markdown",
   "id": "c2268148",
   "metadata": {},
   "source": [
    "## 在图像分析中"
   ]
  },
  {
   "cell_type": "markdown",
   "id": "661c3d00",
   "metadata": {},
   "source": [
    "$f$就是需要处理的像素点. 而$g$就是$f$像素点周围的像素点以及$f$像素点自身对$f$的影响. 其周围的每一个像素点对其都有不完全相同的作用, **卷积核就是将这些作用定量化. 并且进行特征规划** 而后再将这些定量化系数与这些像素点对应相乘, 就得到$f$像素点在周围特征影响下的输出特征."
   ]
  },
  {
   "cell_type": "markdown",
   "id": "5d7f0f6c",
   "metadata": {},
   "source": [
    "不同作用卷积核(特征规划)下的图像"
   ]
  },
  {
   "cell_type": "markdown",
   "id": "7575c41e",
   "metadata": {},
   "source": [
    "![img](convolution_kernel.png)"
   ]
  }
 ],
 "metadata": {
  "kernelspec": {
   "display_name": "Python 3 (ipykernel)",
   "language": "python",
   "name": "python3"
  },
  "language_info": {
   "codemirror_mode": {
    "name": "ipython",
    "version": 3
   },
   "file_extension": ".py",
   "mimetype": "text/x-python",
   "name": "python",
   "nbconvert_exporter": "python",
   "pygments_lexer": "ipython3",
   "version": "3.9.2"
  }
 },
 "nbformat": 4,
 "nbformat_minor": 5
}
