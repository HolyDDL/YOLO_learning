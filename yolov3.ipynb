{
 "cells": [
  {
   "cell_type": "markdown",
   "metadata": {},
   "source": [
    "# YOLO V3"
   ]
  },
  {
   "cell_type": "markdown",
   "metadata": {},
   "source": [
    "#### batch normalization"
   ]
  },
  {
   "cell_type": "markdown",
   "metadata": {},
   "source": [
    "* 用于将分布在较大空间内的数据整合到一个比较小的数据空间内, 减少经过非线性以后的数据饱和. "
   ]
  },
  {
   "cell_type": "markdown",
   "metadata": {},
   "source": [
    "* 建议在每一个卷积层和ReLU层之间都加入这个层"
   ]
  },
  {
   "cell_type": "markdown",
   "metadata": {},
   "source": [
    "![bn](bn.png)"
   ]
  },
  {
   "cell_type": "markdown",
   "metadata": {},
   "source": [
    "输入层是一个大范围内分布的离散数值, 先计算他们的算术平均值, 再计算方差, 经过正则化处理, $\\epsilon$是一个极小量, 用于防止方差为零. 最后再进行一个线性预测, 并加入bias $\\beta$. 其中, 需要机器学习的量仅为$\\gamma$和$\\beta$"
   ]
  },
  {
   "cell_type": "markdown",
   "metadata": {},
   "source": []
  }
 ],
 "metadata": {
  "kernelspec": {
   "display_name": "Python 3.9.2 64-bit",
   "language": "python",
   "name": "python3"
  },
  "language_info": {
   "name": "python",
   "version": "3.9.2"
  },
  "orig_nbformat": 4,
  "vscode": {
   "interpreter": {
    "hash": "d88fe1bbb4da71be0798a46453a5efff5f674a594c343179d37cef3200b399ab"
   }
  }
 },
 "nbformat": 4,
 "nbformat_minor": 2
}
