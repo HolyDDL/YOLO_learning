{
 "cells": [
  {
   "cell_type": "markdown",
   "metadata": {},
   "source": [
    "# GoogLeNet使用技术"
   ]
  },
  {
   "cell_type": "markdown",
   "metadata": {},
   "source": [
    "* ## 全局平均池化技术"
   ]
  },
  {
   "cell_type": "markdown",
   "metadata": {},
   "source": [
    "用于减少CNN卷积池化以后展平为线性层与后续全连接层之间的参数量\n",
    "\n"
   ]
  },
  {
   "cell_type": "markdown",
   "metadata": {},
   "source": [
    "对于一个从CNN的三维输出窗口, $[w,h,d]$以其中每一个深度上的平面卷积输出窗口的平均值作为一个展开神经元, 那么最终该层的神经元个数将为深度$d$个, 极大的减少了神经元个数. (以往展平是将所有的高宽均展开共计$w \\times h \\times d$个神经元)"
   ]
  },
  {
   "cell_type": "markdown",
   "metadata": {},
   "source": [
    "* ## Inception Model"
   ]
  },
  {
   "cell_type": "markdown",
   "metadata": {},
   "source": [
    "采用并行提取技术, 对于同一组数据输入, 同时采用多种卷积和池化操作, 最终再将这些输出拼接."
   ]
  },
  {
   "cell_type": "markdown",
   "metadata": {},
   "source": [
    "![pic](inception.png)"
   ]
  },
  {
   "cell_type": "markdown",
   "metadata": {},
   "source": [
    "模型采用1\\*1卷积用于减少输入的深度, 使3\\*3卷积和5\\*5卷积参数减少.\n",
    "\n",
    "这样的操作使网络又深又宽, 同时, Inception也可以多次叠加, 构建不同的Inception Model"
   ]
  }
 ],
 "metadata": {
  "language_info": {
   "name": "python"
  },
  "orig_nbformat": 4
 },
 "nbformat": 4,
 "nbformat_minor": 2
}
