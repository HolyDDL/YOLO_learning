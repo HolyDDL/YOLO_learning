{
 "cells": [
  {
   "cell_type": "markdown",
   "metadata": {},
   "source": [
    "# VGGNET"
   ]
  },
  {
   "cell_type": "markdown",
   "metadata": {},
   "source": [
    "* 特点\n",
    "  \n",
    "  利用小卷积核替代大卷积核, 并进行多个小卷积层的串联而不是少量大卷积层. 这样可以有效降低参数量. 在多个小卷积层串联时, 其实际感受野实在每一层的卷积核处理中逐步放大, 最终使感受野足够大. \n",
    "  "
   ]
  },
  {
   "cell_type": "markdown",
   "metadata": {},
   "source": [
    "* 预训练策略\n",
    "  \n",
    "  在进行较大网络的的训练时, 可以先训练一个较浅的同型网络, 可以随机给出初始权重, 在得到较好结果后, 再将这个权重引入实际训练网络中. 从而减少训练工作量"
   ]
  },
  {
   "cell_type": "markdown",
   "metadata": {},
   "source": [
    "* 网络结构"
   ]
  },
  {
   "cell_type": "markdown",
   "metadata": {},
   "source": [
    "![vgg](vggnet.jpeg)"
   ]
  },
  {
   "cell_type": "markdown",
   "metadata": {},
   "source": []
  }
 ],
 "metadata": {
  "kernelspec": {
   "display_name": "Python 3.9.2 64-bit",
   "language": "python",
   "name": "python3"
  },
  "language_info": {
   "codemirror_mode": {
    "name": "ipython",
    "version": 3
   },
   "file_extension": ".py",
   "mimetype": "text/x-python",
   "name": "python",
   "nbconvert_exporter": "python",
   "pygments_lexer": "ipython3",
   "version": "3.9.2"
  },
  "orig_nbformat": 4,
  "vscode": {
   "interpreter": {
    "hash": "d88fe1bbb4da71be0798a46453a5efff5f674a594c343179d37cef3200b399ab"
   }
  }
 },
 "nbformat": 4,
 "nbformat_minor": 2
}
