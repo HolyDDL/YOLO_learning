{
 "cells": [
  {
   "cell_type": "markdown",
   "metadata": {},
   "source": [
    "# K-means\n"
   ]
  },
  {
   "cell_type": "markdown",
   "metadata": {},
   "source": [
    "无监督学习算法, 通过计算与种子点的距离来将一系列点划分为种子点个数个簇"
   ]
  },
  {
   "cell_type": "markdown",
   "metadata": {},
   "source": [
    "### 经典K-means算法(随机初始点)"
   ]
  },
  {
   "cell_type": "markdown",
   "metadata": {},
   "source": [
    "* 随机选取$k$个初始点, 分别计算样本数据点与这些初始点之间的欧氏距离.\n",
    "* 对于每一个样本, 将所得的$k$个距离相比较, 将并将该样本点划归到距离最小的对应的初始点的簇中.\n",
    "* 对于每一个初始点, 现在都有多个不同的样本簇围绕其, 再计算同一簇内样本点的坐标均值作为新的初始点.\n",
    "* 迭代上述过程直到初始点不移动."
   ]
  },
  {
   "cell_type": "markdown",
   "metadata": {},
   "source": [
    "欧式距离算法:\n",
    "$$D(X, Y) = \\sqrt{\\sum_{i = k}^n(x_i - y_i)^2}\n",
    "$$\n",
    "其中, $X$表示样本点的坐标向量, 是$n$维向量. $Y$是初始点的坐标向量, 是$n$维向量."
   ]
  },
  {
   "cell_type": "markdown",
   "metadata": {},
   "source": [
    "### K-means++"
   ]
  },
  {
   "cell_type": "markdown",
   "metadata": {},
   "source": [
    "* 核心思想:\n",
    "  \n",
    "  对于初始化初始点情况, 任选一个样本点作为$k$个初始点之一的初始点, 再计算各个样本点到该初始点的距离, 选取距离最远的点作为下一个初始点, 再将已经选择的初始点的中心点作为新的计算距离初始点, 再计算剩下未选择的初始点距离该中心的距离, 选取距离最大者作为新的初始点. 直到选择$k$个初始点作为初始轮. \n",
    "\n",
    "  其后算法与K-means同"
   ]
  },
  {
   "cell_type": "markdown",
   "metadata": {},
   "source": [
    "* 计算距离最大值可用概率计算\n",
    "  $$P(x) = \\frac{D^2(x)}{\\sum_{i = 0}^n D^2(x_i)}\n",
    "  $$\n",
    "  $x$为任取的样本点$D(x)$为样本点到需要计算的中心点的距离"
   ]
  },
  {
   "cell_type": "markdown",
   "metadata": {},
   "source": [
    "## 经典Kmeans实现"
   ]
  },
  {
   "cell_type": "code",
   "execution_count": 1,
   "metadata": {},
   "outputs": [
    {
     "name": "stdout",
     "output_type": "stream",
     "text": [
      "[(1.5, 1.5), (4.5, 3.5)]\n"
     ]
    }
   ],
   "source": [
    "import numpy as np\n",
    "\n",
    "def distance_squre(sample, kernels):\n",
    "    disList = []\n",
    "    for kernel in kernels:\n",
    "        xx = kernel[0] - sample[0]\n",
    "        yy = kernel[1] - sample[1]\n",
    "        dis = xx**2 + yy**2\n",
    "        disList.append(dis)\n",
    "    return disList\n",
    "\n",
    "def kmeans(samples, kernels):\n",
    "    samples_kind = []\n",
    "    next_kernels = []\n",
    "    for sample in samples:\n",
    "        disList = np.array(distance_squre(sample, kernels))\n",
    "        kind = np.argmin(disList)\n",
    "        samples_kind.append(kind)\n",
    "    for k, kernel in enumerate(kernels):\n",
    "        sumx = 0\n",
    "        sumy = 0\n",
    "        num = 0\n",
    "        for i, sample in enumerate(samples):         \n",
    "            if samples_kind[i] == k:\n",
    "                sumx += sample[0]\n",
    "                sumy += sample[1]\n",
    "                num += 1\n",
    "        avgx = sumx / num\n",
    "        avgy = sumy / num\n",
    "        next_kernels.append((avgx, avgy))\n",
    "    if next_kernels == kernels:\n",
    "        return kernels\n",
    "    else:\n",
    "        kernels = kmeans(samples, next_kernels)\n",
    "        return kernels\n",
    "\n",
    "if __name__ == '__main__':\n",
    "    samples = [(1,1),(1,2),(2,1),(2,2),(4,3),(5,3),(4,4),(5,4)]\n",
    "    kernels = [(1,1),(3,4)]\n",
    "\n",
    "    k1 = kmeans(samples, kernels)\n",
    "    print(k1)\n",
    "\n",
    "        "
   ]
  }
 ],
 "metadata": {
  "kernelspec": {
   "display_name": "Python 3.9.2 64-bit",
   "language": "python",
   "name": "python3"
  },
  "language_info": {
   "codemirror_mode": {
    "name": "ipython",
    "version": 3
   },
   "file_extension": ".py",
   "mimetype": "text/x-python",
   "name": "python",
   "nbconvert_exporter": "python",
   "pygments_lexer": "ipython3",
   "version": "3.9.2"
  },
  "orig_nbformat": 4,
  "vscode": {
   "interpreter": {
    "hash": "d88fe1bbb4da71be0798a46453a5efff5f674a594c343179d37cef3200b399ab"
   }
  }
 },
 "nbformat": 4,
 "nbformat_minor": 2
}
